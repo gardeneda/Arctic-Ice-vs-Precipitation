{
 "cells": [
  {
   "cell_type": "markdown",
   "metadata": {},
   "source": [
    "<h1>EOSC 442 - Final Project</h1>\n",
    "Members: Isaiah Youm, Bernice Huynh, Ting Gu, Yicheng Ma\n",
    "\n",
    "Research Objective: // TODO \n"
   ]
  },
  {
   "cell_type": "code",
   "execution_count": 3,
   "metadata": {},
   "outputs": [],
   "source": [
    "# Import libraries to manage data\n",
    "import pandas as pd\n",
    "import numpy as np\n",
    "import matplotlib.pyplot as plt\n",
    "from datetime import datetime"
   ]
  },
  {
   "cell_type": "markdown",
   "metadata": {},
   "source": [
    "<hr>\n",
    "<h3>List of Functions Used</h3>"
   ]
  },
  {
   "cell_type": "code",
   "execution_count": 4,
   "metadata": {},
   "outputs": [],
   "source": [
    "# Converts year and month gathered from dataset into datetime\n",
    "def convert_to_datetime(year:str, month:str, index:int, DataFrame:pd.DataFrame) -> datetime.date:\n",
    "    \"\"\"\n",
    "    year = Name of Column of Year in String (Column from DataFrame)\\n\n",
    "    month = Name of Column of Month in String (Column from DataFrame)\\n\n",
    "    index = the iteration number in a loop\\n\n",
    "    DataFrame = the target pandas.DataFrame\\n\n",
    "    \"\"\"\n",
    "    year = str(DataFrame.iloc[index][year])\n",
    "    month = str(DataFrame.iloc[index][month])\n",
    "    form_prep = year+'/'+month\n",
    "    date_time = datetime.strptime(form_prep, '%Y/%m')\n",
    "\n",
    "    return date_time\n",
    "\n"
   ]
  },
  {
   "cell_type": "markdown",
   "metadata": {},
   "source": [
    "<hr>\n",
    "<h3> Setting up Data for Ice Extent </h3>\n",
    "\n",
    "The csv file for the ice-extent data are separated by 12 months, which have their respective years from 1979 to 2022.\n",
    "The year and month, however, are separated and do not have a proper index.\n",
    "Therefore, when setting up this data, combining the month and year to a useable DateTime index is necessary.\n",
    "\n",
    "<strong> Throughout this data analysis, all DateTime index should be in the form of YYYY-MM-01"
   ]
  },
  {
   "cell_type": "code",
   "execution_count": 5,
   "metadata": {},
   "outputs": [],
   "source": [
    "# Setting-up data for Ice-Extent.\n",
    "# NOTE: The csv file for the ice-extent data are separated by 12 months, which have their respective years from 1979 to 2022\n",
    "\n",
    "\n",
    "# Create an empty DataFrame for the Ice-Extent data.\n",
    "# Initiailizing the column names, because the pd.concat() function only works with data\n",
    "# that have the same parameters/columns.\n",
    "ice_extent = pd.DataFrame()\n",
    "\n",
    "# For-loop through the twelve datasets\n",
    "for num in range(1, 13):\n",
    "    if num < 10:\n",
    "        relative_file_path = f'./Ice Extent/N_0{num}_extent_v3.0.csv'\n",
    "    else:\n",
    "        relative_file_path = f'./Ice Extent/N_{num}_extent_v3.0.csv'\n",
    "    data_point = pd.read_csv(relative_file_path, delimiter=',\\s+', engine='python')\n",
    "    # print(data_point)\n",
    "    ice_extent = pd.concat([ice_extent, data_point], sort=True)\n",
    "\n",
    "##############\n",
    "\n",
    "# Have to change the ice_extent data to index it by YYYY_MM\n",
    "\n",
    "# To do this, we first need to grab the year and mo to DateTime format.\n",
    "datetime_iceextent = []\n",
    "for num in range(0, len(ice_extent)):\n",
    "    date_time = convert_to_datetime('year', 'mo', num, ice_extent)\n",
    "    datetime_iceextent.append(date_time)\n",
    "\n",
    "# Add list of datetime made to the Ice Extent DataFrame as 'DateTime'\n",
    "ice_extent['DateTime'] = datetime_iceextent\n",
    "\n",
    "# Set using pandas.DataFrame.set_index(column_name)\n",
    "ice_extent = ice_extent.set_index('DateTime')\n",
    "\n",
    "# Delete redundant columns (year and mo in this case)\n",
    "ice_extent = ice_extent.drop('year', axis=1)\n",
    "ice_extent = ice_extent.drop('mo', axis=1)\n"
   ]
  },
  {
   "cell_type": "markdown",
   "metadata": {},
   "source": [
    "<hr>\n",
    "<h3> Setting up Data for Ice Thickness</h3>"
   ]
  },
  {
   "cell_type": "code",
   "execution_count": 6,
   "metadata": {},
   "outputs": [],
   "source": [
    "# Setting-up data for Ice Thickness\n",
    "# Using ____ data set\n",
    "ice_thickness = pd.read_csv(\"\")\n"
   ]
  },
  {
   "cell_type": "markdown",
   "metadata": {},
   "source": [
    "<hr>\n",
    "<h3> Setting up Data for Precipitation </h3>\n",
    "\n",
    "<strong>cmap-mean.csv</strong> has LOTS of data that are unnecessary for this data analysis.\n",
    "\n",
    "We only need data from lat 60 to 90 since that's the average lattitude we're searching for.\n",
    "This is because the Arctic is around 76' latttiude, and we want some leniency in the collection of our data.\n",
    "Therefore, we gather from 60' lat to 90' lat."
   ]
  },
  {
   "cell_type": "code",
   "execution_count": 8,
   "metadata": {},
   "outputs": [
    {
     "name": "stdout",
     "output_type": "stream",
     "text": [
      "5432832 = total number of data in original csv file.\n",
      "905472 = the number of leftover data-points after filter\n"
     ]
    }
   ],
   "source": [
    "# Setting up data for Precipitation\n",
    "\n",
    "# Reading the raw cmap-means.csv.\n",
    "# Objective: Filter out all data outside of lattitude 60 ~ 90\n",
    "precipitation = pd.read_csv('./Precipitation/cmap-mean.csv')\n",
    "print(f\"{len(precipitation)} = total number of data in original csv file.\")\n",
    "\n",
    "\n",
    "# There's more data thats outside of the 60 ~ 90 range. \n",
    "# To optimize the code, it is better to make the if condition 60 and below.\n",
    "\n",
    "for num in range(0, len(precipitation)):\n",
    "    if precipitation.iloc[num]['lat'] < 60:\n",
    "        precipitation = precipitation[:num]\n",
    "\n",
    "        break\n",
    "\n",
    "print(f\"{len(precipitation)} = the number of leftover data-points after filter\")\n",
    "\n",
    "# Need to set the YYYY-MM-DD as the index for the precipitation data.\n",
    "# Doing this now, because iterating through a DateTime is difficult for the procedures above.\n",
    "\n",
    "precipitation = precipitation.set_index('time')"
   ]
  },
  {
   "cell_type": "markdown",
   "metadata": {},
   "source": [
    "<h4 style='color:cyan;'> Only run this code if you need to save a new .csv file (with <strong>filtered</strong> data from <strong>cmap-mean.csv</strong>))</h4>\n",
    "\n",
    "Export to a csv file with wanted range of data. <br>\n",
    "Un-necessary, but am doing this so we don't have a humongous data set to download.<br>\n",
    "<p><code>precipitation.to_csv(\"./Precipitation/filtered_precipitation_data.csv\", index=False)</code></p>"
   ]
  },
  {
   "cell_type": "markdown",
   "metadata": {},
   "source": [
    "<hr>\n",
    "<h3>Data Analysis - Plotting PARAMETER1 vs PARAMETER2</h3>"
   ]
  }
 ],
 "metadata": {
  "kernelspec": {
   "display_name": "Python 3.10.0 64-bit ('3.10.0')",
   "language": "python",
   "name": "python3"
  },
  "language_info": {
   "codemirror_mode": {
    "name": "ipython",
    "version": 3
   },
   "file_extension": ".py",
   "mimetype": "text/x-python",
   "name": "python",
   "nbconvert_exporter": "python",
   "pygments_lexer": "ipython3",
   "version": "3.10.0"
  },
  "orig_nbformat": 4,
  "vscode": {
   "interpreter": {
    "hash": "1f1ccfe1132665631f97eb5b941ca4b93e2d3b7ae0534c7bcd7a7028a78ff9c4"
   }
  }
 },
 "nbformat": 4,
 "nbformat_minor": 2
}
